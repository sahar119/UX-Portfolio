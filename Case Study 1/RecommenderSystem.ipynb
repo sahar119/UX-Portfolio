{
 "cells": [
  {
   "cell_type": "code",
   "execution_count": 4,
   "metadata": {},
   "outputs": [
    {
     "name": "stdout",
     "output_type": "stream",
     "text": [
      "       imageId    weight\n",
      "0  Image ID 66  878.7158\n",
      "5  Image ID 71  871.9928\n",
      "4  Image ID 70  851.0058\n",
      "3  Image ID 69  812.2833\n",
      "7  Image ID 73  789.4493\n",
      "6  Image ID 72  772.7068\n",
      "8  Image ID 74  740.2258\n",
      "9  Image ID 75  738.2753\n",
      "2  Image ID 68  687.9803\n",
      "1  Image ID 67  667.2308\n"
     ]
    }
   ],
   "source": [
    "import pandas as pd\n",
    "\n",
    "df = pd.read_csv('NewYorker.csv', sep=';', encoding='latin-1')\n",
    "\n",
    "\n",
    "df = df.groupby(['imageId'])['votes'].agg(['mean', 'count']).reset_index()\n",
    "\n",
    "\n",
    "# C is the mean vote across the whole report\n",
    "C = df['mean'].mean()\n",
    "\n",
    "# m is the minimum votes required to be considered\n",
    "m = df['count'].quantile(0.99)\n",
    "\n",
    "# filter out all into a new DataFrame\n",
    "df = df.loc[df['count'] >= m]\n",
    "\n",
    "def weighted_rating(x, m=m, C=C):\n",
    "  v = x['count']\n",
    "  R = x['mean']\n",
    "  return (v/(v+m) * R) + (m/(m+v) * C)\n",
    "\n",
    "df['weight'] = df.apply(weighted_rating, axis=1)\n",
    "\n",
    "df = df.sort_values('weight', ascending=False).head(10)\n",
    "df = df[['imageId', 'weight']]\n",
    "\n",
    "print(df) \n",
    "\n",
    "\n",
    "df.to_csv('recommendations-weight.csv')"
   ]
  },
  {
   "cell_type": "code",
   "execution_count": 14,
   "metadata": {},
   "outputs": [
    {
     "name": "stdout",
     "output_type": "stream",
     "text": [
      "   Unnamed: 0      imageId    weight  sad  anxiety  stress\n",
      "0           0  Image ID 66  878.7158  sad  anxiety  stress\n",
      "1           5  Image ID 71  871.9928  sad  anxiety  stress\n",
      "2           4  Image ID 70  851.0058  sad  anxiety  stress\n",
      "3           3  Image ID 69  812.2833  sad  anxiety  stress\n",
      "4           7  Image ID 73  789.4493  sad  anxiety  stress\n",
      "5           6  Image ID 72  772.7068  sad  anxiety  stress\n",
      "6           8  Image ID 74  740.2258  sad  anxiety  stress\n",
      "7           9  Image ID 75  738.2753  sad  anxiety  stress\n",
      "8           2  Image ID 68  687.9803  sad  anxiety  stress\n",
      "9           1  Image ID 67  667.2308  sad  anxiety  stress\n"
     ]
    }
   ],
   "source": [
    "import pandas as pd\n",
    "\n",
    "df = pd.read_csv('recommendations-weight.csv')\n",
    "# Add the new columns with specified values\n",
    "df['sad'] = 'sad'\n",
    "df['anxiety'] = 'anxiety'\n",
    "df['stress'] = 'stress'\n",
    "\n",
    "print(df)\n",
    "\n",
    "df.to_csv('newyourker-recommendations-weight.csv')"
   ]
  },
  {
   "cell_type": "code",
   "execution_count": 15,
   "metadata": {},
   "outputs": [
    {
     "name": "stdout",
     "output_type": "stream",
     "text": [
      "Recommended Image IDs:\n",
      "       imageId    weight\n",
      "0  Image ID 66  878.7158\n",
      "1  Image ID 71  871.9928\n",
      "2  Image ID 70  851.0058\n"
     ]
    }
   ],
   "source": [
    "import pandas as pd\n",
    "\n",
    "df = pd.read_csv('newyourker-recommendations-weight.csv')\n",
    "\n",
    "# Get user's selected emotion (sad, anxiety, or stress)\n",
    "selected_emotion = input(\"How do you feel now(sad/anxiety/stress): \")\n",
    "\n",
    "\n",
    "# Get usage time from the user\n",
    "usage_time = float(input(\"Enter usage time in minutes: \"))\n",
    "\n",
    "# Filter data based on selected emotions\n",
    "filtered_data = df[df[selected_emotion] == 1]\n",
    "\n",
    "\n",
    "# Check if usage time is more than 30 minutes\n",
    "if usage_time > 30:\n",
    "    # Select top 3 image IDs based on weight\n",
    "    recommendations = filtered_data.sort_values('weight', ascending=False).head(10)\n",
    "    recommendations= df = df[['imageId', 'weight']]\n",
    "    print(\"Recommended Image IDs:\")\n",
    "    print(recommendations.head(3))\n",
    "else:\n",
    "    print(\"no recommendation for you\")"
   ]
  },
  {
   "cell_type": "code",
   "execution_count": 2,
   "metadata": {},
   "outputs": [
    {
     "ename": "SyntaxError",
     "evalue": "invalid syntax (2128901382.py, line 5)",
     "output_type": "error",
     "traceback": [
      "\u001b[1;36m  Cell \u001b[1;32mIn[2], line 5\u001b[1;36m\u001b[0m\n\u001b[1;33m    <img src=\"Image%20ID%2066.jpg\" width=\"280\" height=\"280\">  <img src=\"Image%20ID%2071.jpg\" width=\"280\" height=\"280\">  <img src=\"Image%20ID%2070.jpg\" width=\"280\" height=\"280\">\u001b[0m\n\u001b[1;37m    ^\u001b[0m\n\u001b[1;31mSyntaxError\u001b[0m\u001b[1;31m:\u001b[0m invalid syntax\n"
     ]
    }
   ],
   "source": [
    "import seaborn as sns\n",
    "import matplotlib.pyplot as plt\n",
    "import numpy as np \n",
    "\n",
    "<img src=\"Image%20ID%2066.jpg\" width=\"280\" height=\"280\">  <img src=\"Image%20ID%2071.jpg\" width=\"280\" height=\"280\">  <img src=\"Image%20ID%2070.jpg\" width=\"280\" height=\"280\">"
   ]
  },
  {
   "cell_type": "code",
   "execution_count": 15,
   "metadata": {},
   "outputs": [
    {
     "name": "stdout",
     "output_type": "stream",
     "text": [
      "Requirement already satisfied: seaborn in c:\\users\\sahar\\anaconda3\\lib\\site-packages (0.12.2)\n",
      "Requirement already satisfied: numpy!=1.24.0,>=1.17 in c:\\users\\sahar\\anaconda3\\lib\\site-packages (from seaborn) (1.24.3)\n",
      "Requirement already satisfied: pandas>=0.25 in c:\\users\\sahar\\anaconda3\\lib\\site-packages (from seaborn) (1.5.3)\n",
      "Requirement already satisfied: matplotlib!=3.6.1,>=3.1 in c:\\users\\sahar\\anaconda3\\lib\\site-packages (from seaborn) (3.7.1)\n",
      "Requirement already satisfied: contourpy>=1.0.1 in c:\\users\\sahar\\anaconda3\\lib\\site-packages (from matplotlib!=3.6.1,>=3.1->seaborn) (1.0.5)\n",
      "Requirement already satisfied: cycler>=0.10 in c:\\users\\sahar\\anaconda3\\lib\\site-packages (from matplotlib!=3.6.1,>=3.1->seaborn) (0.11.0)\n",
      "Requirement already satisfied: fonttools>=4.22.0 in c:\\users\\sahar\\anaconda3\\lib\\site-packages (from matplotlib!=3.6.1,>=3.1->seaborn) (4.25.0)\n",
      "Requirement already satisfied: kiwisolver>=1.0.1 in c:\\users\\sahar\\anaconda3\\lib\\site-packages (from matplotlib!=3.6.1,>=3.1->seaborn) (1.4.4)\n",
      "Requirement already satisfied: packaging>=20.0 in c:\\users\\sahar\\anaconda3\\lib\\site-packages (from matplotlib!=3.6.1,>=3.1->seaborn) (23.0)\n",
      "Requirement already satisfied: pillow>=6.2.0 in c:\\users\\sahar\\anaconda3\\lib\\site-packages (from matplotlib!=3.6.1,>=3.1->seaborn) (9.4.0)\n",
      "Requirement already satisfied: pyparsing>=2.3.1 in c:\\users\\sahar\\anaconda3\\lib\\site-packages (from matplotlib!=3.6.1,>=3.1->seaborn) (3.0.9)\n",
      "Requirement already satisfied: python-dateutil>=2.7 in c:\\users\\sahar\\anaconda3\\lib\\site-packages (from matplotlib!=3.6.1,>=3.1->seaborn) (2.8.2)\n",
      "Requirement already satisfied: pytz>=2020.1 in c:\\users\\sahar\\anaconda3\\lib\\site-packages (from pandas>=0.25->seaborn) (2022.7)\n",
      "Requirement already satisfied: six>=1.5 in c:\\users\\sahar\\anaconda3\\lib\\site-packages (from python-dateutil>=2.7->matplotlib!=3.6.1,>=3.1->seaborn) (1.16.0)\n",
      "Note: you may need to restart the kernel to use updated packages.\n"
     ]
    }
   ],
   "source": [
    "pip install seaborn"
   ]
  }
 ],
 "metadata": {
  "kernelspec": {
   "display_name": "base",
   "language": "python",
   "name": "python3"
  },
  "language_info": {
   "codemirror_mode": {
    "name": "ipython",
    "version": 3
   },
   "file_extension": ".py",
   "mimetype": "text/x-python",
   "name": "python",
   "nbconvert_exporter": "python",
   "pygments_lexer": "ipython3",
   "version": "3.11.4"
  },
  "orig_nbformat": 4
 },
 "nbformat": 4,
 "nbformat_minor": 2
}
